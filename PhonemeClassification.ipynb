{
 "cells": [
  {
   "cell_type": "markdown",
   "metadata": {},
   "source": [
    "# Phoneme Classification"
   ]
  },
  {
   "cell_type": "markdown",
   "metadata": {},
   "source": [
    "## Data Preparation and Initialization"
   ]
  },
  {
   "cell_type": "markdown",
   "metadata": {},
   "source": [
    "### Import Packages"
   ]
  },
  {
   "cell_type": "code",
   "execution_count": null,
   "metadata": {},
   "outputs": [],
   "source": [
    "import numpy as np\n",
    "import torch\n",
    "from torch.utils.data import Dataset\n",
    "from torch.utils.data import DataLoader\n",
    "from sklearn.model_selection import train_test_split\n",
    "from warmup_scheduler import GradualWarmupScheduler  #https://github.com/ildoonet/pytorch-gradual-warmup-lr\n",
    "import gc\n",
    "import torch\n",
    "import torch.nn as nn\n",
    "import pytorch_warmup as warmup # https://github.com/ildoonet/pytorch-gradual-warmup-lr\n",
    "import swats # https://github.com/Mrpatekful/swats\n",
    "from random import randint\n",
    "import statistics"
   ]
  },
  {
   "cell_type": "markdown",
   "metadata": {},
   "source": [
    "### Download Data"
   ]
  },
  {
   "cell_type": "code",
   "execution_count": null,
   "metadata": {},
   "outputs": [],
   "source": [
    "!gdown \"1VVtc1chpLGlEst3h65eN1aX5V6iTl8qT\" --output data.zip\n",
    "!unzip data.zip\n",
    "!ls "
   ]
  },
  {
   "cell_type": "markdown",
   "metadata": {},
   "source": [
    "### Initialization"
   ]
  },
  {
   "cell_type": "code",
   "execution_count": null,
   "metadata": {},
   "outputs": [],
   "source": [
    "myseed = 666  # set a random seed for reproducibility\n",
    "\n",
    "print('Loading data ...')\n",
    "\n",
    "data_root='./timit_11/'\n",
    "train = np.load(data_root + 'train_11.npy')\n",
    "train_label = np.load(data_root + 'train_label_11.npy')\n",
    "test = np.load(data_root + 'test_11.npy')\n",
    "\n",
    "print('Size of training data: {}'.format(train.shape))\n",
    "print('Size of testing data: {}'.format(test.shape))"
   ]
  },
  {
   "cell_type": "markdown",
   "metadata": {},
   "source": [
    "### Dataset"
   ]
  },
  {
   "cell_type": "code",
   "execution_count": null,
   "metadata": {},
   "outputs": [],
   "source": [
    "class TIMITDataset(Dataset):\n",
    "    def __init__(self, X, y=None):\n",
    "        self.data = torch.from_numpy(X).float()\n",
    "        if y is not None:\n",
    "            y = y.astype(np.int)\n",
    "            self.label = torch.LongTensor(y)\n",
    "        else:\n",
    "            self.label = None\n",
    "\n",
    "    def __getitem__(self, idx):\n",
    "        if self.label is not None:\n",
    "            return self.data[idx], self.label[idx]\n",
    "        else:\n",
    "            return self.data[idx]\n",
    "\n",
    "    def __len__(self):\n",
    "        return len(self.data)"
   ]
  },
  {
   "cell_type": "markdown",
   "metadata": {},
   "source": [
    "## Neural Network"
   ]
  },
  {
   "cell_type": "markdown",
   "metadata": {},
   "source": [
    "### Neural Network Construction"
   ]
  },
  {
   "cell_type": "code",
   "execution_count": null,
   "metadata": {},
   "outputs": [],
   "source": [
    "class Classifier(nn.Module):\n",
    "    def __init__(self, L1, L2, L3, L4):\n",
    "        super(Classifier, self).__init__()\n",
    "        self.layer1 = nn.Linear(429, L1)\n",
    "        self.layer2 = nn.Linear(L1, L2)\n",
    "        self.layer3 = nn.Linear(L2, L3)\n",
    "        self.layer4 = nn.Linear(L3, L4)\n",
    "        self.out = nn.Linear(L4, 39) \n",
    "\n",
    "        self.act_fn = nn.ReLU()\n",
    "        self.dropout_2 = nn.Dropout(0.6)\n",
    "        self.batchnorm_1 = nn.BatchNorm1d(L1)\n",
    "        self.batchnorm_2 = nn.BatchNorm1d(L2)\n",
    "        self.batchnorm_3 = nn.BatchNorm1d(L3)\n",
    "        self.batchnorm_4 = nn.BatchNorm1d(L4)\n",
    "\n",
    "    def forward(self, x):\n",
    "        x = self.layer1(x)\n",
    "        x = self.batchnorm_1(x)\n",
    "        x = self.act_fn(x)\n",
    "        x = self.dropout_2(x)\n",
    "\n",
    "        x = self.layer2(x)\n",
    "        x = self.batchnorm_2(x)\n",
    "        x = self.act_fn(x)\n",
    "        x = self.dropout_2(x)\n",
    "\n",
    "        x = self.layer3(x)\n",
    "        x = self.batchnorm_3(x)\n",
    "        x = self.act_fn(x)\n",
    "        x = self.dropout_2(x)\n",
    "\n",
    "        x = self.layer4(x)\n",
    "        x = self.batchnorm_4(x)\n",
    "        x = self.act_fn(x)\n",
    "        x = self.dropout_2(x)\n",
    "\n",
    "        x = self.out(x)\n",
    "        \n",
    "        return x"
   ]
  },
  {
   "cell_type": "markdown",
   "metadata": {},
   "source": [
    "## Model Training"
   ]
  },
  {
   "cell_type": "markdown",
   "metadata": {},
   "source": [
    "### Hyperparameters"
   ]
  },
  {
   "cell_type": "code",
   "execution_count": null,
   "metadata": {},
   "outputs": [],
   "source": [
    "config = {\n",
    "    'train_size': 0.8,\n",
    "    'num_epoch': 2000,                # maximum number of epochs\n",
    "    'BATCH_SIZE': 180000,               # mini-batch size for dataloader\n",
    "    'optimizer': 'Adam',              # optimization algorithm (optimizer in torch.optim)\n",
    "    'optim_hparas': {                # hyper-parameters for the optimizer (depends on which optimizer you are using)\n",
    "        'lr': 0.001,                 # learning rate of optimizer\n",
    "        'weight_decay': 0.00002,\n",
    "    }\n",
    "}\n",
    "\n",
    "times = 10\n",
    "preds=[]\n",
    "\n",
    "# the path where checkpoint saved\n",
    "model_path = './model.ckpt'"
   ]
  },
  {
   "cell_type": "markdown",
   "metadata": {},
   "source": [
    "### Helper Function"
   ]
  },
  {
   "cell_type": "code",
   "execution_count": null,
   "metadata": {},
   "outputs": [],
   "source": [
    "#check device\n",
    "def get_device():\n",
    "  return 'cuda' if torch.cuda.is_available() else 'cpu'"
   ]
  },
  {
   "cell_type": "code",
   "execution_count": null,
   "metadata": {},
   "outputs": [],
   "source": [
    "# fix random seed\n",
    "def same_seeds(seed):\n",
    "    torch.manual_seed(seed)\n",
    "    if torch.cuda.is_available():\n",
    "        torch.cuda.manual_seed(seed)\n",
    "        torch.cuda.manual_seed_all(seed)  \n",
    "    np.random.seed(seed)  \n",
    "    torch.backends.cudnn.benchmark = False\n",
    "    torch.backends.cudnn.deterministic = True"
   ]
  },
  {
   "cell_type": "code",
   "execution_count": null,
   "metadata": {},
   "outputs": [],
   "source": [
    "def get_lr(optimizer):\n",
    "    for param_group in optimizer.param_groups:\n",
    "        return param_group['lr']"
   ]
  },
  {
   "cell_type": "markdown",
   "metadata": {},
   "source": [
    "### Construct Dataset"
   ]
  },
  {
   "cell_type": "code",
   "execution_count": null,
   "metadata": {},
   "outputs": [],
   "source": [
    "\"\"\"Split the labeled data into a training set and a validation set\"\"\"\n",
    "train_x, val_x, train_y, val_y = train_test_split(train, train_label, random_state=myseed, train_size=config['train_size'])\n",
    "print('Size of training set: {}'.format(train_x.shape))\n",
    "print('Size of validation set: {}'.format(val_x.shape))\n",
    "\n",
    "\n",
    "\"\"\"Create a data loader from the dataset\"\"\"\n",
    "train_set = TIMITDataset(train_x, train_y)\n",
    "val_set = TIMITDataset(val_x, val_y)\n",
    "train_loader = DataLoader(train_set, batch_size=config['BATCH_SIZE'], shuffle=True) #only shuffle the training data\n",
    "val_loader = DataLoader(val_set, batch_size=config['BATCH_SIZE'], shuffle=False)\n",
    "\n",
    "\"\"\"Cleanup the unneeded variables to save memory.<br>\"\"\"\n",
    "del train, train_label, train_x, train_y, val_x, val_y\n",
    "gc.collect()"
   ]
  },
  {
   "cell_type": "markdown",
   "metadata": {},
   "source": [
    "### Model Training"
   ]
  },
  {
   "cell_type": "code",
   "execution_count": null,
   "metadata": {},
   "outputs": [],
   "source": [
    "# fix random seed for reproducibility\n",
    "same_seeds(myseed)\n",
    "\n",
    "# get device \n",
    "device = get_device()\n",
    "print(f'DEVICE: {device}')"
   ]
  },
  {
   "cell_type": "code",
   "execution_count": null,
   "metadata": {},
   "outputs": [],
   "source": [
    "for time in range(times):\n",
    "    # create model, define a loss function, and optimizer\n",
    "    model = Classifier(\n",
    "        L1=randint(1024, 2048),\n",
    "        L2=randint(512, 1024),\n",
    "        L3=randint(256, 512),\n",
    "        L4=randint(128, 256),\n",
    "        ).to(device)\n",
    "    criterion = nn.CrossEntropyLoss() \n",
    "    optimizer = getattr(torch.optim, config['optimizer'])(\n",
    "            model.parameters(), **config['optim_hparas'])\n",
    "\n",
    "    scheduler = torch.optim.lr_scheduler.CosineAnnealingLR(optimizer, T_max=5000)\n",
    "    scheduler_warmup = GradualWarmupScheduler(optimizer, multiplier=1, total_epoch=100, after_scheduler=scheduler)\n",
    "\n",
    "    # start training\n",
    "    best_acc = 0.0\n",
    "    for epoch in range(config['num_epoch']):\n",
    "        train_acc = 0.0\n",
    "        train_loss = 0.0\n",
    "        val_acc = 0.0\n",
    "        val_loss = 0.0\n",
    "\n",
    "        # training\n",
    "        model.train() # set the model to training mode\n",
    "        scheduler_warmup.step(epoch)\n",
    "        for i, data in enumerate(train_loader):\n",
    "            inputs, labels = data\n",
    "            inputs, labels = inputs.to(device), labels.to(device)\n",
    "            optimizer.zero_grad() \n",
    "            outputs = model(inputs) \n",
    "            batch_loss = criterion(outputs, labels)\n",
    "            _, train_pred = torch.max(outputs, 1) # get the index of the class with the highest probability\n",
    "            batch_loss.backward() \n",
    "            optimizer.step()\n",
    "            scheduler.step()\n",
    "\n",
    "            train_acc += (train_pred.cpu() == labels.cpu()).sum().item()\n",
    "            train_loss += batch_loss.item()\n",
    "\n",
    "            now_lr = get_lr(optimizer)\n",
    "\n",
    "        # validation\n",
    "        if len(val_set) > 0:\n",
    "            model.eval() # set the model to evaluation mode\n",
    "            with torch.no_grad():\n",
    "                for i, data in enumerate(val_loader):\n",
    "                    inputs, labels = data\n",
    "                    inputs, labels = inputs.to(device), labels.to(device)\n",
    "                    outputs = model(inputs)\n",
    "                    batch_loss = criterion(outputs, labels) \n",
    "                    _, val_pred = torch.max(outputs, 1) \n",
    "                \n",
    "                    val_acc += (val_pred.cpu() == labels.cpu()).sum().item() # get the index of the class with the highest probability\n",
    "                    val_loss += batch_loss.item()\n",
    "\n",
    "                print('[{:03d}/{:03d}] Train Acc: {:3.6f} Loss: {:3.6f} | Val Acc: {:3.6f} loss: {:3.6f} | lr: {:3.6f}'.format(\n",
    "                    epoch + 1, config['num_epoch'], train_acc/len(train_set), train_loss/len(train_loader), val_acc/len(val_set)\n",
    "                    , val_loss/len(val_loader), now_lr\n",
    "                ))\n",
    "\n",
    "                # if the model improves, save a checkpoint at this epoch\n",
    "                if val_acc > best_acc:\n",
    "                    best_acc = val_acc\n",
    "                    torch.save(model.state_dict(), model_path)\n",
    "                    print('saving model with acc {:3.6f}'.format(best_acc/len(val_set)))\n",
    "\n",
    "        else:\n",
    "            print('[{:03d}/{:03d}] Train Acc: {:3.6f} Loss: {:3.6f}'.format(\n",
    "                epoch + 1, config['num_epoch'], train_acc/len(train_set), train_loss/len(train_loader)\n",
    "            ))\n",
    "\n",
    "    # if not validating, save the last epoch\n",
    "    if len(val_set) == 0:\n",
    "        torch.save(model.state_dict(), model_path)\n",
    "        print('saving model at last epoch')\n",
    "\n",
    "    \"\"\"\n",
    "    Testing\n",
    "    Create a testing dataset, and load model from the saved checkpoint.\n",
    "    \"\"\"\n",
    "\n",
    "    # create testing dataset\n",
    "    test_set = TIMITDataset(test, None)\n",
    "    test_loader = DataLoader(test_set, batch_size=config['BATCH_SIZE'], shuffle=False)\n",
    "\n",
    "    \"\"\"Make prediction\"\"\"\n",
    "    model.eval() # set the model to evaluation mode\n",
    "    predict = []\n",
    "    with torch.no_grad():\n",
    "        for i, data in enumerate(test_loader):\n",
    "            inputs = data\n",
    "            inputs = inputs.to(device)\n",
    "            outputs = model(inputs)\n",
    "            _, test_pred = torch.max(outputs, 1) # get the index of the class with the highest probability\n",
    "\n",
    "            for y in test_pred.cpu().numpy():\n",
    "                predict.append(y)\n",
    "    preds.append(predict)"
   ]
  },
  {
   "cell_type": "markdown",
   "metadata": {},
   "source": [
    "### Save Predictions"
   ]
  },
  {
   "cell_type": "code",
   "execution_count": null,
   "metadata": {},
   "outputs": [],
   "source": [
    "preds = np.asarray(preds)\n",
    "\n",
    "# Ensemble predictions\n",
    "mode_preds = []\n",
    "for i in range(preds.shape[1]):\n",
    "    mode_preds.append(statistics.mode(preds[:, i]))\n",
    "\n",
    "with open('prediction.csv', 'w') as f:\n",
    "    f.write('Id,Class\\n')\n",
    "    for i, y in enumerate(mode_preds):\n",
    "        f.write('{},{}\\n'.format(i, y))"
   ]
  }
 ],
 "metadata": {
  "kernelspec": {
   "display_name": "Python 3",
   "language": "python",
   "name": "python3"
  },
  "language_info": {
   "name": "python",
   "version": "3.9.13"
  },
  "orig_nbformat": 4
 },
 "nbformat": 4,
 "nbformat_minor": 2
}
